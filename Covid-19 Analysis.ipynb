{
 "cells": [
  {
   "cell_type": "markdown",
   "metadata": {},
   "source": [
    "### SEC Filings + COVID-19 Analytics\n",
    "\n",
    "\n",
    "\n",
    "# Starter file"
   ]
  },
  {
   "cell_type": "markdown",
   "metadata": {},
   "source": [
    "- Before taking this assignment, please take a look at the instruction carefully.\n",
    "- In this assignment, you will use your Python skills (`pandas`, `matplotlib`, `for` loop, `if` condition, ...) to analyze SEC filings and Covid-19 cases.\n",
    "- There are short-answer questions and visualization questions. \n",
    "- 20 problems, 5 points each, total 100 points\n",
    "- For visualization questions, save them separately using the specified file name: `hw1_ans(question_number)_(student_id).png` <br/>\n",
    "(e.g.) <b>hw1_ans13_37510930.png</b>\n",
    "- Please <b>don’t</b> submit the `png` file in Canvas. We will run your code to generate this `png` file!\n",
    "- Submit your Python code in UBC Canvas. DO NOT email your homework to instructors. \n",
    "- Again, please submit your code in Canvas. The code file name should be as follows: `hw1_(student_id).py` <br/>\n",
    "(e.g.) <b>hw1_37510930.py</b>\n",
    "- If you are using Jupyter notebook, you can convert ipynb file to py file using the following procedure. <br/>\n",
    "  Click <b>File</b> tab -> Click <b>Download as</b> ->  Click <b>.py</b> option\n",
    "- If you do not keep the standard submission format, there will be an <b>extra deduction</b> on your grade. \n",
    "- If code is not running, you will get <b>minimum</b> grade (Please run by yourself before submitting the assignment).\n",
    "- Late submissions will not be accepted!"
   ]
  },
  {
   "cell_type": "markdown",
   "metadata": {},
   "source": [
    "### Import the appropriate modules for this assignment"
   ]
  },
  {
   "cell_type": "code",
   "execution_count": 1,
   "metadata": {},
   "outputs": [],
   "source": [
    "import matplotlib.pyplot as plt\n",
    "import numpy as np\n",
    "import pandas as pd\n",
    "%matplotlib inline"
   ]
  },
  {
   "cell_type": "markdown",
   "metadata": {},
   "source": [
    "### Please assign the variables `first_name`, `last_name`, `student_id`, and `email` with your first name, last name, student ID, and email address. `student_id` should be an integer and others should be strings."
   ]
  },
  {
   "cell_type": "code",
   "execution_count": 2,
   "metadata": {},
   "outputs": [],
   "source": [
    "first_name = 'Depeng'\n",
    "last_name = 'Ye'\n",
    "student_id = 35205608\n",
    "email = 'depengye@student.ubc.ca'"
   ]
  },
  {
   "cell_type": "markdown",
   "metadata": {},
   "source": [
    "## [SEC analytics : Questions 1 - 13]"
   ]
  },
  {
   "cell_type": "markdown",
   "metadata": {},
   "source": [
    "##### Question 1: Find the number of characters in this file and assign it to the `ans1` variable.\n",
    "- Download `feed_header_2017-2019.tsv` file into the same directory, where `hw1_starter.ipynb` is located. (If the code reads TSV file from another directory, there will be an extra deduction on your grade)\n",
    "- Use `open` function to open this `feed_header_2017-2019.tsv` file with `read-only` file mode. `TSV` file is similar to `CSV`, but its value is separated by `Tab`.\n",
    "\n",
    "[Hint]\n",
    "- `open` function : https://www.w3schools.com/python/ref_func_open.asp"
   ]
  },
  {
   "cell_type": "code",
   "execution_count": 3,
   "metadata": {},
   "outputs": [
    {
     "data": {
      "text/plain": [
       "316388908"
      ]
     },
     "execution_count": 3,
     "metadata": {},
     "output_type": "execute_result"
    }
   ],
   "source": [
    "file = open(\"feed_header_2017-2019.tsv\", \"r\")\n",
    "fh = file.read()\n",
    "ans1 = len(fh)\n",
    "ans1"
   ]
  },
  {
   "cell_type": "markdown",
   "metadata": {},
   "source": [
    "##### Question 2: Find the number of words in the file and assign it to the `ans2` variable.\n",
    "- We consider <b>word</b> as all numbers, special characters, and text separated by white space."
   ]
  },
  {
   "cell_type": "code",
   "execution_count": 4,
   "metadata": {
    "scrolled": true
   },
   "outputs": [
    {
     "data": {
      "text/plain": [
       "26223290"
      ]
     },
     "execution_count": 4,
     "metadata": {},
     "output_type": "execute_result"
    }
   ],
   "source": [
    "ans2 = len(fh.split())\n",
    "ans2"
   ]
  },
  {
   "cell_type": "markdown",
   "metadata": {},
   "source": [
    "##### Question 3: Find the number of lines in the file and assign it to the `ans3` variable."
   ]
  },
  {
   "cell_type": "code",
   "execution_count": 5,
   "metadata": {},
   "outputs": [
    {
     "data": {
      "text/plain": [
       "1765125"
      ]
     },
     "execution_count": 5,
     "metadata": {},
     "output_type": "execute_result"
    }
   ],
   "source": [
    "# I learned .strip() method can remove the empty lines in file from this website:\n",
    "# http://www.compciv.org/practicum/shakefiles/h-count-non-blank-lines-in-shakespeare-tragedies/ \n",
    "ans3 = len(fh.strip().split('\\n'))\n",
    "ans3"
   ]
  },
  {
   "cell_type": "markdown",
   "metadata": {},
   "source": [
    "### From now on, you will focus on one industry area for the industry trend analysis. \n",
    "### To do so, you will select the first digit `SIC` code.\n",
    "\n",
    "##### Question 4: Divide your `student_id` by 8, and add 1 to the `remainder`. Assign its value to the `ans4` variable.\n"
   ]
  },
  {
   "cell_type": "code",
   "execution_count": 6,
   "metadata": {},
   "outputs": [],
   "source": [
    "ans4 = student_id % 8 + 1"
   ]
  },
  {
   "cell_type": "markdown",
   "metadata": {},
   "source": [
    "### Now, you have the first digit of `SIC` that you will analyze.\n",
    "### Please extract the rows of the following condition. \n",
    "- Read the `feed_header_2017-2019.tsv` using `pandas` module's `read_csv()` function and save the dataframe name as `df`.\n",
    "- We need to filter rows with an `ASSIGNED-SIC` column value starting with the value of `ans4`.      \n",
    "- You can extract this condition using various methods such as  `for` loop, `pandas`, and `numpy`.\n",
    "\n",
    "\n",
    "##### Question 5: Find the shape of `df` and assign it to the `ans5` variable.\n",
    "We have confirmed that the result changes based on the datatype of ASSIGNED-SIC as float or str.  \n",
    "There are '0200' and '2000' in the SIC code.  \n",
    "These two codes stand for different industries.  \n",
    "However, if you change ASSIGNED-SIC to str and apply startwith method, the '0200' and '2000' codes are treated as the same industry.  \n",
    "Therefore, please follow the following procedures.  \n",
    "When you do sorting, please make ASSIGNED-SIC as float first.  \n",
    "Next, multiply ans4 value by 1000 (inclusive) and multiply ans4 value+1 by 1000 (not inclusive).  \n",
    "Next, please sort the values that come in this range.  \n",
    "For example, suppose that your ans4 value is 4.  \n",
    "Find out the ASSIGNED-SIC value which is between 4000(inclusive) and 5000(exclusive).  \n",
    "Thank you @Mujia for letting me know.    \n",
    "If you have a question, please let me know.  "
   ]
  },
  {
   "cell_type": "code",
   "execution_count": 7,
   "metadata": {},
   "outputs": [
    {
     "data": {
      "text/plain": [
       "(73575, 12)"
      ]
     },
     "execution_count": 7,
     "metadata": {},
     "output_type": "execute_result"
    }
   ],
   "source": [
    "df = pd.read_csv(\"feed_header_2017-2019.tsv\", sep = \"\\t\")\n",
    "a_sic =[]\n",
    "for i in df[\"ASSIGNED-SIC\"]:\n",
    "    i = float(i)\n",
    "    a_sic.append(i in range(ans4 * 1000, (ans4 + 1) * 1000))\n",
    "#    a_sic.append(str(i)[0] == str(ans4))\n",
    "df = df.loc[a_sic]\n",
    "ans5 = df.shape\n",
    "ans5"
   ]
  },
  {
   "cell_type": "markdown",
   "metadata": {},
   "source": [
    "### From questions 6 to 8, you will analyze the `CONFORMED-NAME` column value from the dataframe `df`."
   ]
  },
  {
   "cell_type": "markdown",
   "metadata": {},
   "source": [
    "##### Question 6: Find the most common `word` among company names and assign it to the `ans6`.\n",
    "\n",
    "- We consider <b>word</b> as all numbers, special characters, and text separated by white space.\n",
    "- You will get the <b>word</b> using the string's `split()` method.\n",
    "- For Question 6, each <b>word</b> is case-sensitive.\n",
    "\n",
    "[Hint]\n",
    "\n",
    "- `split()` method : https://www.w3schools.com/python/ref_string_split.asp"
   ]
  },
  {
   "cell_type": "code",
   "execution_count": 8,
   "metadata": {},
   "outputs": [
    {
     "data": {
      "text/plain": [
       "'Inc.'"
      ]
     },
     "execution_count": 8,
     "metadata": {},
     "output_type": "execute_result"
    }
   ],
   "source": [
    "count = {}\n",
    "for name in df[\"CONFORMED-NAME\"]:\n",
    "    for word in name.split():\n",
    "        if word in count:\n",
    "            count[word] += 1\n",
    "        else:\n",
    "            count[word] = 1\n",
    "sorted_count = sorted(count, key = count.get, reverse = True)\n",
    "ans6 = sorted_count[0]\n",
    "# the answer I got is \"Inc.\" and it obviously is a stop word.\n",
    "ans6"
   ]
  },
  {
   "cell_type": "markdown",
   "metadata": {},
   "source": [
    "The answer I got for question 6 is \"Inc.\" and it obviously is a stop word."
   ]
  },
  {
   "cell_type": "markdown",
   "metadata": {},
   "source": [
    "Take a look at the the answer of `ans6`. Do you think the answer is a stop word? Stop words are generally the most common words in a language and may not be meaningful such as `the`, `a`, `of` and `or`. In the company names, the following words can be stop words (`inc`, `co`, `se`, `ltd`, ... ). Therefore, you want to delete the stop words to get more meaningful result."
   ]
  },
  {
   "cell_type": "markdown",
   "metadata": {},
   "source": [
    "##### Question 7: Find the most common word among company names after removing stopwords and assign it to the `ans7`.\n",
    "- Please <b>lowercase</b> the company name value.\n",
    "- We consider <b>word</b> as all numbers, special characters, and text separated by white space.\n",
    "- Filter the word if the word includes any items among the provided `stopwords` list."
   ]
  },
  {
   "cell_type": "code",
   "execution_count": 9,
   "metadata": {},
   "outputs": [],
   "source": [
    "stopwords = ['inc','corp','co','ltd','de','llc','group','inc.','holdings,','&','group,','lp','holdings']"
   ]
  },
  {
   "cell_type": "code",
   "execution_count": 35,
   "metadata": {},
   "outputs": [
    {
     "data": {
      "text/plain": [
       "'energy'"
      ]
     },
     "execution_count": 35,
     "metadata": {},
     "output_type": "execute_result"
    }
   ],
   "source": [
    "count_new = {}\n",
    "for key in count:\n",
    "    if key.lower() not in stopwords:\n",
    "        count_new[key.lower()] = count[key]\n",
    "    else:\n",
    "        continue\n",
    "        \n",
    "sorted_count_new = sorted(count_new, key = count_new.get, reverse = True)\n",
    "\n",
    "ans7 = sorted_count_new[0]\n",
    "ans7"
   ]
  },
  {
   "cell_type": "markdown",
   "metadata": {},
   "source": [
    "##### Question 8: Find the longest company name and assign it to the `ans8`.\n",
    "\n",
    "- You do not need to split the value to extract the company name. \n",
    "- Here are company name examples : `Apple, inc.`, `Amazon, inc.`"
   ]
  },
  {
   "cell_type": "code",
   "execution_count": 11,
   "metadata": {},
   "outputs": [
    {
     "data": {
      "text/plain": [
       "'United Steel, Paper & Forestry, Rubber, Manufacturing, Energy, Allied Industrial & Service Workers I'"
      ]
     },
     "execution_count": 11,
     "metadata": {},
     "output_type": "execute_result"
    }
   ],
   "source": [
    "name_len = {}\n",
    "for name in df[\"CONFORMED-NAME\"]:\n",
    "    name_len[name] = len(name)\n",
    "\n",
    "ans8 = max(name_len, key = name_len.get)\n",
    "ans8"
   ]
  },
  {
   "cell_type": "markdown",
   "metadata": {},
   "source": [
    "### Questions 9 ~ 12: You want to analyze the trend of  `STATE` where the companies submit the `10-K` report in `2018` or `2019` from the `df` dataframe.\n",
    "- The first step is to make the new column, `year`, which includes the year value from `FILING-DATE` column.\n",
    "- Please convert the `year` column datatype as `int`.\n",
    "- Next, filter the dataframe with two conditions: <b>1)</b> `Form-Type` is `10-K` and <b>2)</b> `Year` is `2018` or `2019`. Assign the filtered dataframe as `df_10K`."
   ]
  },
  {
   "cell_type": "markdown",
   "metadata": {},
   "source": [
    "##### Question 9: Please find the unique number of states from the dataframe `df_10K` and assign it to the `ans9`.\n",
    "[Hint]\n",
    "- `.nunique()` method:  https://pandas.pydata.org/pandas-docs/stable/reference/api/pandas.DataFrame.nunique.html"
   ]
  },
  {
   "cell_type": "code",
   "execution_count": 12,
   "metadata": {
    "scrolled": true
   },
   "outputs": [
    {
     "data": {
      "text/plain": [
       "56"
      ]
     },
     "execution_count": 12,
     "metadata": {},
     "output_type": "execute_result"
    }
   ],
   "source": [
    "# I looked at this page for the following line of code. \n",
    "# https://stackoverflow.com/questions/34093189/how-do-you-iterate-over-each-row-in-a-data-frame-without-applying-each-index-to\n",
    "df['year'] = df['FILING-DATE'].str.split(\"-\").str[0].apply(int)\n",
    "\n",
    "df_10K = df.loc[np.logical_and(df[\"FORM-TYPE\"] == \"10-K\", np.logical_or(df['year'] == 2018, df['year'] == 2019))]\n",
    "\n",
    "ans9 = df_10K['STATE'].nunique()\n",
    "ans9"
   ]
  },
  {
   "cell_type": "markdown",
   "metadata": {},
   "source": [
    "You are provided `states` information in `us_states.csv`. If comparing `states` list from  `df_10K`  with `us_states.csv`, you will notice that some state names are not in the valid 50 states. Therefore, you need to preprocess the `State` value in `df_10K` dataframe. \n",
    "\n",
    "Download `us_state.csv` file into the same directory, where `hw1_starter.ipynb` is located. (If your code reads `us_state.csv` file in another directory, there will be an extra deduction on your grade). Read the `us_states.csv` file and remove rows with invalid states from `df_10K` dataframe.\n",
    "\n",
    "##### Question 10: Please find the unique number of valid states from the dataframe `df_10K_state` and assign its value to the `ans10`.\n",
    "- Use the `pandas` library to open the `us_states.csv` file as a dataframe `usa_states`.\n",
    "- Get rid of rows which `STATE` column value is not the same as `State` column value from dataframe `usa_states`.\n",
    "- Save the preprocessed dataframe name as `df_10K_state`.\n",
    "- From `df_10K_state` dataframe, get the unique number of states and store it as `ans10`."
   ]
  },
  {
   "cell_type": "code",
   "execution_count": 13,
   "metadata": {
    "scrolled": true
   },
   "outputs": [
    {
     "data": {
      "text/plain": [
       "40"
      ]
     },
     "execution_count": 13,
     "metadata": {},
     "output_type": "execute_result"
    }
   ],
   "source": [
    "usa_states = pd.read_csv(\"us_states.csv\")\n",
    "\n",
    "\n",
    "df_10K_state = df_10K.loc[df_10K[\"STATE\"].isin(usa_states[\"State\"])]\n",
    "\n",
    "ans10 = df_10K_state[\"STATE\"].nunique()\n",
    "ans10"
   ]
  },
  {
   "cell_type": "markdown",
   "metadata": {},
   "source": [
    "#### Question 11: Find the states with the largest number of 10-K reports from dataframe `df_10K_state`, and assign this number to `ans11`.\n",
    "\n",
    "[Hint]\n",
    "- To solve this question, you can refer the `Counter` object to check how many 10-K reporting is submitted by companies in each region.\n",
    "- `Counter` : https://docs.python.org/3/library/collections.html\n"
   ]
  },
  {
   "cell_type": "code",
   "execution_count": 14,
   "metadata": {},
   "outputs": [
    {
     "data": {
      "text/plain": [
       "343"
      ]
     },
     "execution_count": 14,
     "metadata": {},
     "output_type": "execute_result"
    }
   ],
   "source": [
    "from collections import Counter \n",
    "state_count = dict(Counter(df_10K_state[\"STATE\"]))\n",
    "state_count_sort = sorted(state_count, key = state_count.get, reverse = True)\n",
    "\n",
    "ans11 = state_count[state_count_sort[0]]\n",
    "ans11"
   ]
  },
  {
   "cell_type": "markdown",
   "metadata": {},
   "source": [
    "##### Question 12: Find the number of `10-K` reports from the state of `NY` from the  `df_10K_state` dataframe."
   ]
  },
  {
   "cell_type": "code",
   "execution_count": 15,
   "metadata": {
    "scrolled": true
   },
   "outputs": [
    {
     "data": {
      "text/plain": [
       "10"
      ]
     },
     "execution_count": 15,
     "metadata": {},
     "output_type": "execute_result"
    }
   ],
   "source": [
    "ans12 = state_count[\"NY\"]\n",
    "ans12"
   ]
  },
  {
   "cell_type": "markdown",
   "metadata": {},
   "source": [
    "##### Question 13: Make the bar graph based on the following instructions.\n",
    "- You want to know the top 7 states where the 10-K reports were most reported.\n",
    "- To make a bar graph, please use the df_10K_state dataframe.\n",
    "- Before drawing the graph, make the `state_count` dictionary which contains the state and the number of 10-K reports for that state.\n",
    " (e.g.) {‘NY’: 166, ‘CA’: ... }\n",
    "- Set all labels’ font size as 15.\n",
    "- Set the xlabel as “STATE” (please use state column).\n",
    "- Set the ylabel as “Number of 10-K reports” (please use state_count dictionary).\n",
    "- Set the title as “Number of 10-K reports in 2018 and 2019”.\n",
    "- Save the graph named “hw1_ans13_(student_id).png”.\n",
    " (e.g.) **hw1_ans13_37510930.png**"
   ]
  },
  {
   "cell_type": "code",
   "execution_count": 16,
   "metadata": {},
   "outputs": [
    {
     "data": {
      "image/png": "[encoded data removed]",
      "text/plain": [
       "<Figure size 1152x648 with 1 Axes>"
      ]
     },
     "metadata": {
      "needs_background": "light"
     },
     "output_type": "display_data"
    }
   ],
   "source": [
    "# Creating the dataframe that is clean enough to plot with. \n",
    "state_count_df = pd.DataFrame(np.array(list(state_count.items())), columns = [\"state\", \"STATE_COUNT\"])\n",
    "state_count_df = state_count_df.astype({'state':str, 'STATE_COUNT':int})\n",
    "state_count_df = state_count_df.sort_values(by = 'STATE_COUNT', ascending = False)\n",
    "state_count_plot = state_count_df[0:7]\n",
    "\n",
    "plt.figure(figsize=(16,9))\n",
    "plt.bar(state_count_plot['state'], state_count_plot['STATE_COUNT'])\n",
    "plt.xlabel('STATE', fontsize = 15)\n",
    "plt.ylabel('Number of 10-K reports', fontsize = 15)\n",
    "plt.title('Number of 10-K reports in 2018 and 2019', fontsize = 15)\n",
    "plt.savefig(\"hw1_ans13_35205608.png\")\n",
    "# plt.close()"
   ]
  },
  {
   "cell_type": "markdown",
   "metadata": {},
   "source": [
    "You are now done with the SEC filings analytics part. Now we will move on to the next part.\n",
    "\n",
    "## [COVID-19 analytics : Questions 14 - 19]"
   ]
  },
  {
   "cell_type": "markdown",
   "metadata": {},
   "source": [
    "### You want to calculate basic statistics and draw graphs on COVID-19 cases, which contain the information on `Reported_Date`, `HA`, `Sex`, and `Age_Group` from the `covid` dataframe.\n",
    "\n",
    "- Download `BCCDC_COVID19_Dashboard_Case_Details.csv` file into the same directory, where `hw1_starter.ipynb` is located. (If your code reads CSV file from another directory, there will be an extra deduction on your grade)\n",
    "- Open `BCCDC_COVID19_Dashboard_Case_Details.csv` file using `pandas` library and assign the dataframe name as `covid`."
   ]
  },
  {
   "cell_type": "markdown",
   "metadata": {},
   "source": [
    "##### Question 14: Find how many COVID-19 cases occurred in October 2020 and assign its value to `ans14`. \n",
    "\n",
    "- The first step is to make the new column, `Month`, which includes month value from `Reported_Date` column.\n",
    "- Next, make the `list_Month` which contains the value of `Month` in `covid` dataframe.\n",
    "- Then, make the `month_count` dictionary which contains the month and the number of cases for that month.<br/>\n",
    "  (e.g.) <b>{'01': 1, '02': 8, ... }</b>\n",
    "- Finally, get the number of cases occured in October"
   ]
  },
  {
   "cell_type": "code",
   "execution_count": 17,
   "metadata": {},
   "outputs": [
    {
     "data": {
      "text/plain": [
       "3292"
      ]
     },
     "execution_count": 17,
     "metadata": {},
     "output_type": "execute_result"
    }
   ],
   "source": [
    "covid = pd.read_csv('BCCDC_COVID19_Dashboard_Case_Details.csv')\n",
    "covid[\"Month\"] = covid['Reported_Date'].str.split(\"-\").str[1]\n",
    "list_Month = list(covid['Month'])\n",
    "month_count = dict(Counter(list_Month))\n",
    "\n",
    "ans14 = month_count['10']\n",
    "ans14"
   ]
  },
  {
   "cell_type": "code",
   "execution_count": 18,
   "metadata": {
    "scrolled": true
   },
   "outputs": [
    {
     "data": {
      "text/html": [
       "<div>\n",
       "<style scoped>\n",
       "    .dataframe tbody tr th:only-of-type {\n",
       "        vertical-align: middle;\n",
       "    }\n",
       "\n",
       "    .dataframe tbody tr th {\n",
       "        vertical-align: top;\n",
       "    }\n",
       "\n",
       "    .dataframe thead th {\n",
       "        text-align: right;\n",
       "    }\n",
       "</style>\n",
       "<table border=\"1\" class=\"dataframe\">\n",
       "  <thead>\n",
       "    <tr style=\"text-align: right;\">\n",
       "      <th></th>\n",
       "      <th>Reported_Date</th>\n",
       "      <th>HA</th>\n",
       "      <th>Sex</th>\n",
       "      <th>Age_Group</th>\n",
       "      <th>Classification_Reported</th>\n",
       "      <th>Month</th>\n",
       "    </tr>\n",
       "  </thead>\n",
       "  <tbody>\n",
       "    <tr>\n",
       "      <th>0</th>\n",
       "      <td>2020-01-26</td>\n",
       "      <td>Out of Canada</td>\n",
       "      <td>M</td>\n",
       "      <td>40-49</td>\n",
       "      <td>Lab-diagnosed</td>\n",
       "      <td>01</td>\n",
       "    </tr>\n",
       "    <tr>\n",
       "      <th>1</th>\n",
       "      <td>2020-02-02</td>\n",
       "      <td>Vancouver Coastal</td>\n",
       "      <td>F</td>\n",
       "      <td>50-59</td>\n",
       "      <td>Lab-diagnosed</td>\n",
       "      <td>02</td>\n",
       "    </tr>\n",
       "    <tr>\n",
       "      <th>2</th>\n",
       "      <td>2020-02-05</td>\n",
       "      <td>Out of Canada</td>\n",
       "      <td>F</td>\n",
       "      <td>20-29</td>\n",
       "      <td>Lab-diagnosed</td>\n",
       "      <td>02</td>\n",
       "    </tr>\n",
       "    <tr>\n",
       "      <th>3</th>\n",
       "      <td>2020-02-05</td>\n",
       "      <td>Out of Canada</td>\n",
       "      <td>M</td>\n",
       "      <td>30-39</td>\n",
       "      <td>Lab-diagnosed</td>\n",
       "      <td>02</td>\n",
       "    </tr>\n",
       "    <tr>\n",
       "      <th>4</th>\n",
       "      <td>2020-02-11</td>\n",
       "      <td>Interior</td>\n",
       "      <td>F</td>\n",
       "      <td>30-39</td>\n",
       "      <td>Lab-diagnosed</td>\n",
       "      <td>02</td>\n",
       "    </tr>\n",
       "  </tbody>\n",
       "</table>\n",
       "</div>"
      ],
      "text/plain": [
       "  Reported_Date                 HA Sex Age_Group Classification_Reported Month\n",
       "0    2020-01-26      Out of Canada   M     40-49           Lab-diagnosed    01\n",
       "1    2020-02-02  Vancouver Coastal   F     50-59           Lab-diagnosed    02\n",
       "2    2020-02-05      Out of Canada   F     20-29           Lab-diagnosed    02\n",
       "3    2020-02-05      Out of Canada   M     30-39           Lab-diagnosed    02\n",
       "4    2020-02-11           Interior   F     30-39           Lab-diagnosed    02"
      ]
     },
     "execution_count": 18,
     "metadata": {},
     "output_type": "execute_result"
    }
   ],
   "source": [
    "covid.head()"
   ]
  },
  {
   "cell_type": "markdown",
   "metadata": {},
   "source": [
    "##### Question 15: Make the `bar` chart based on the following instructions.\n",
    "- You want to draw the `bar` chart to find out the trend in covid-19 by month based on the `list_Month` and `month_count`in Question 14.\n",
    "- X axis is the month in `list_Month` and Y axis is the number of cases in `month_count`.\n",
    "- Set all labels' font size as <b>15</b>. \n",
    "- Set the xlabel as \"`Months`\".\n",
    "- Set the ylabel as \"`The Number of Cases`\".\n",
    "- Set the title as \"`The Number of Cases by Months`\".\n",
    "- Save the graph named \"`hw1_ans15_(student_id).png`\".<br/>\n",
    "  (e.g.) <b>hw1_ans15_37510930.png</b>"
   ]
  },
  {
   "cell_type": "code",
   "execution_count": 19,
   "metadata": {},
   "outputs": [
    {
     "data": {
      "text/plain": [
       "{'01': 1,\n",
       " '02': 8,\n",
       " '03': 1049,\n",
       " '04': 1088,\n",
       " '05': 447,\n",
       " '06': 337,\n",
       " '07': 760,\n",
       " '08': 2180,\n",
       " '09': 3392,\n",
       " '10': 3292}"
      ]
     },
     "execution_count": 19,
     "metadata": {},
     "output_type": "execute_result"
    }
   ],
   "source": [
    "month_count"
   ]
  },
  {
   "cell_type": "code",
   "execution_count": 20,
   "metadata": {},
   "outputs": [],
   "source": [
    "list_Month = sorted(list(set(list_Month)))"
   ]
  },
  {
   "cell_type": "code",
   "execution_count": 21,
   "metadata": {},
   "outputs": [
    {
     "data": {
      "image/png": "[encoded data removed]",
      "text/plain": [
       "<Figure size 1152x648 with 1 Axes>"
      ]
     },
     "metadata": {
      "needs_background": "light"
     },
     "output_type": "display_data"
    }
   ],
   "source": [
    "plt.figure(figsize=(16,9))\n",
    "plt.bar(list_Month, month_count.values())\n",
    "plt.xlabel('Months', fontsize = 15)\n",
    "plt.ylabel('The Number of Cases', fontsize = 15)\n",
    "plt.title('The Number of Cases by Months', fontsize = 15)\n",
    "plt.savefig(\"hw1_ans15_35205608.png\")\n",
    "# plt.close()"
   ]
  },
  {
   "cell_type": "markdown",
   "metadata": {},
   "source": [
    "### Questions 16~17: Make the `Line` plot by `Sex` and `Month`.\n",
    "- We want to divide the number of cases by `Sex` in question 15.\n",
    "\n",
    "##### Question 16: Find the month in which the number of female(`F`) cases were least and assign it to `ans16`. \n",
    "- Column `Sex` consists of `M`,`F`,and `U`.\n",
    "- Calculate the number of cases in each `Sex` by `Month` as in Question 14.\n",
    "\n",
    "- The first step is to divide `covid` dataframe into three sub-dataframes according to `Sex` values.\n",
    "- Next, make the `Male_Month`, `Female_Month`, and `Unknown_Month` which contains the value of `Month` in three sub-dataframe.\n",
    "- Then, make the `Male_count`, `Female_count`, and `Unknown_count` dictionary which contains the month and the number of cases for that month.<br/>\n",
    "  (e.g.) <b>{'01': 1, '02': 8, ... } for each `Sex`</b>\n",
    "- Finally, get the month in which the number of female(`F`) cases were least."
   ]
  },
  {
   "cell_type": "code",
   "execution_count": 22,
   "metadata": {},
   "outputs": [
    {
     "data": {
      "text/plain": [
       "'02'"
      ]
     },
     "execution_count": 22,
     "metadata": {},
     "output_type": "execute_result"
    }
   ],
   "source": [
    "Male_covid = covid.loc[covid['Sex'] == 'M']\n",
    "Female_covid = covid.loc[covid['Sex'] == 'F']\n",
    "Unknown_covid = covid.loc[covid['Sex'] == 'U']\n",
    "Male_Month = list(Male_covid['Month'])\n",
    "Female_Month = list(Female_covid['Month'])\n",
    "Unknown_Month = list(Unknown_covid['Month'])\n",
    "Male_count = dict(Counter(Male_Month))\n",
    "Female_count = dict(Counter(Female_Month))\n",
    "Unknown_count = dict(Counter(Unknown_Month))\n",
    "for month in Female_count:\n",
    "    if Female_count[month] == min(Female_count.values()):\n",
    "        ans16 = month\n",
    "        break\n",
    "    else:\n",
    "        continue\n",
    "ans16"
   ]
  },
  {
   "cell_type": "markdown",
   "metadata": {},
   "source": [
    "##### Question 17: Make the `line` plot based on the following instructions.\n",
    "- You want to distinguish the number of cases by `Month` between `Sex` to check whether there is different trend between `Sex`.\n",
    "- Draw the `plot` based on the `Male_Month`,`Female_Month`,`Unknown_Month`,`Male_count`,`Female_count`, and `Unknown_count`in Question 16.\n",
    "- Set all labels' font size as <b>15</b>. \n",
    "- Set the xlabel as \"`Months`\" (please use `month_count` column values).\n",
    "- Set the ylabel as \"`The Number of Cases by Sex`\".\n",
    "- Set the title as \"`The Number of Cases by Sex and Months`\".\n",
    "- Save the graph named \"`hw1_ans17_(student_id).png`\".<br/>\n",
    "  (e.g.) <b>hw1_ans17_37510930.png</b>"
   ]
  },
  {
   "cell_type": "code",
   "execution_count": 23,
   "metadata": {},
   "outputs": [],
   "source": [
    "List_Male = sorted(list(set(Male_Month)))\n",
    "List_Female = sorted(list(set(Female_Month)))\n",
    "List_Unknown = sorted(list(set(Unknown_Month)))"
   ]
  },
  {
   "cell_type": "code",
   "execution_count": 24,
   "metadata": {},
   "outputs": [
    {
     "data": {
      "image/png": "[encoded data removed]",
      "text/plain": [
       "<Figure size 1152x648 with 1 Axes>"
      ]
     },
     "metadata": {
      "needs_background": "light"
     },
     "output_type": "display_data"
    }
   ],
   "source": [
    "plt.figure(figsize=(16,9))\n",
    "plt.plot(List_Male, list(Male_count.values()), label = 'Male')\n",
    "plt.plot(List_Female, list(Female_count.values()), label = \"Female\")\n",
    "plt.plot(List_Unknown, list(Unknown_count.values()), label = 'Unknown')\n",
    "plt.xlabel('Months', fontsize = 15)\n",
    "plt.ylabel('The Number of Cases by Sex', fontsize = 15)\n",
    "plt.legend(loc = 'best')\n",
    "plt.title('The Number of Cases by Sex and Months', fontsize = 15)\n",
    "plt.savefig(\"hw1_ans17_35205608.png\")\n",
    "# plt.close()"
   ]
  },
  {
   "cell_type": "code",
   "execution_count": 25,
   "metadata": {},
   "outputs": [
    {
     "data": {
      "text/html": [
       "<div>\n",
       "<style scoped>\n",
       "    .dataframe tbody tr th:only-of-type {\n",
       "        vertical-align: middle;\n",
       "    }\n",
       "\n",
       "    .dataframe tbody tr th {\n",
       "        vertical-align: top;\n",
       "    }\n",
       "\n",
       "    .dataframe thead th {\n",
       "        text-align: right;\n",
       "    }\n",
       "</style>\n",
       "<table border=\"1\" class=\"dataframe\">\n",
       "  <thead>\n",
       "    <tr style=\"text-align: right;\">\n",
       "      <th></th>\n",
       "      <th>Reported_Date</th>\n",
       "      <th>HA</th>\n",
       "      <th>Sex</th>\n",
       "      <th>Age_Group</th>\n",
       "      <th>Classification_Reported</th>\n",
       "      <th>Month</th>\n",
       "    </tr>\n",
       "  </thead>\n",
       "  <tbody>\n",
       "    <tr>\n",
       "      <th>0</th>\n",
       "      <td>2020-01-26</td>\n",
       "      <td>Out of Canada</td>\n",
       "      <td>M</td>\n",
       "      <td>40-49</td>\n",
       "      <td>Lab-diagnosed</td>\n",
       "      <td>01</td>\n",
       "    </tr>\n",
       "    <tr>\n",
       "      <th>1</th>\n",
       "      <td>2020-02-02</td>\n",
       "      <td>Vancouver Coastal</td>\n",
       "      <td>F</td>\n",
       "      <td>50-59</td>\n",
       "      <td>Lab-diagnosed</td>\n",
       "      <td>02</td>\n",
       "    </tr>\n",
       "    <tr>\n",
       "      <th>2</th>\n",
       "      <td>2020-02-05</td>\n",
       "      <td>Out of Canada</td>\n",
       "      <td>F</td>\n",
       "      <td>20-29</td>\n",
       "      <td>Lab-diagnosed</td>\n",
       "      <td>02</td>\n",
       "    </tr>\n",
       "    <tr>\n",
       "      <th>3</th>\n",
       "      <td>2020-02-05</td>\n",
       "      <td>Out of Canada</td>\n",
       "      <td>M</td>\n",
       "      <td>30-39</td>\n",
       "      <td>Lab-diagnosed</td>\n",
       "      <td>02</td>\n",
       "    </tr>\n",
       "    <tr>\n",
       "      <th>4</th>\n",
       "      <td>2020-02-11</td>\n",
       "      <td>Interior</td>\n",
       "      <td>F</td>\n",
       "      <td>30-39</td>\n",
       "      <td>Lab-diagnosed</td>\n",
       "      <td>02</td>\n",
       "    </tr>\n",
       "    <tr>\n",
       "      <th>...</th>\n",
       "      <td>...</td>\n",
       "      <td>...</td>\n",
       "      <td>...</td>\n",
       "      <td>...</td>\n",
       "      <td>...</td>\n",
       "      <td>...</td>\n",
       "    </tr>\n",
       "    <tr>\n",
       "      <th>12549</th>\n",
       "      <td>2020-10-22</td>\n",
       "      <td>Vancouver Coastal</td>\n",
       "      <td>M</td>\n",
       "      <td>60-69</td>\n",
       "      <td>Lab-diagnosed</td>\n",
       "      <td>10</td>\n",
       "    </tr>\n",
       "    <tr>\n",
       "      <th>12550</th>\n",
       "      <td>2020-10-22</td>\n",
       "      <td>Vancouver Coastal</td>\n",
       "      <td>M</td>\n",
       "      <td>10-19</td>\n",
       "      <td>Lab-diagnosed</td>\n",
       "      <td>10</td>\n",
       "    </tr>\n",
       "    <tr>\n",
       "      <th>12551</th>\n",
       "      <td>2020-10-22</td>\n",
       "      <td>Vancouver Coastal</td>\n",
       "      <td>M</td>\n",
       "      <td>60-69</td>\n",
       "      <td>Lab-diagnosed</td>\n",
       "      <td>10</td>\n",
       "    </tr>\n",
       "    <tr>\n",
       "      <th>12552</th>\n",
       "      <td>2020-10-23</td>\n",
       "      <td>Vancouver Coastal</td>\n",
       "      <td>U</td>\n",
       "      <td>Unknown</td>\n",
       "      <td>Lab-diagnosed</td>\n",
       "      <td>10</td>\n",
       "    </tr>\n",
       "    <tr>\n",
       "      <th>12553</th>\n",
       "      <td>2020-10-23</td>\n",
       "      <td>Vancouver Coastal</td>\n",
       "      <td>U</td>\n",
       "      <td>Unknown</td>\n",
       "      <td>Lab-diagnosed</td>\n",
       "      <td>10</td>\n",
       "    </tr>\n",
       "  </tbody>\n",
       "</table>\n",
       "<p>12554 rows × 6 columns</p>\n",
       "</div>"
      ],
      "text/plain": [
       "      Reported_Date                 HA Sex Age_Group Classification_Reported  \\\n",
       "0        2020-01-26      Out of Canada   M     40-49           Lab-diagnosed   \n",
       "1        2020-02-02  Vancouver Coastal   F     50-59           Lab-diagnosed   \n",
       "2        2020-02-05      Out of Canada   F     20-29           Lab-diagnosed   \n",
       "3        2020-02-05      Out of Canada   M     30-39           Lab-diagnosed   \n",
       "4        2020-02-11           Interior   F     30-39           Lab-diagnosed   \n",
       "...             ...                ...  ..       ...                     ...   \n",
       "12549    2020-10-22  Vancouver Coastal   M     60-69           Lab-diagnosed   \n",
       "12550    2020-10-22  Vancouver Coastal   M     10-19           Lab-diagnosed   \n",
       "12551    2020-10-22  Vancouver Coastal   M     60-69           Lab-diagnosed   \n",
       "12552    2020-10-23  Vancouver Coastal   U   Unknown           Lab-diagnosed   \n",
       "12553    2020-10-23  Vancouver Coastal   U   Unknown           Lab-diagnosed   \n",
       "\n",
       "      Month  \n",
       "0        01  \n",
       "1        02  \n",
       "2        02  \n",
       "3        02  \n",
       "4        02  \n",
       "...     ...  \n",
       "12549    10  \n",
       "12550    10  \n",
       "12551    10  \n",
       "12552    10  \n",
       "12553    10  \n",
       "\n",
       "[12554 rows x 6 columns]"
      ]
     },
     "execution_count": 25,
     "metadata": {},
     "output_type": "execute_result"
    }
   ],
   "source": [
    "covid"
   ]
  },
  {
   "cell_type": "markdown",
   "metadata": {},
   "source": [
    "### Question 18~19: Make the `Horizontal bar` plot.\n",
    "\n",
    "- B.C. began to be affected by the COVID-19 after mid-March.\n",
    "- Accordingly, we would like to check how many cases were reported in which region in <b>Question 18</b>.\n",
    "- Also, we would like to check the most reported area in <b>Question 19</b>. \n",
    "- Select the code to aggregate `covid` dataframe by `HA` and `Month` and assign this dataframe as `covid_region`. \n",
    "- In the dataframe `covid_region`, the columns that you need are `HA`, `Month`, and `Classification_Reported`.\n",
    "- Next, you need to make new column `Reported_cum`, which is the cumulative number of `Classification_Reported` of each `HA`.\n",
    "\n",
    "[Hints]\n",
    "- `groupby(sum)` : https://stackoverflow.com/questions/39922986/pandas-group-by-and-sum\n",
    "- `cumsum` : https://pandas.pydata.org/pandas-docs/stable/reference/api/pandas.DataFrame.cumsum.html\n",
    "- `lamda` : https://www.w3schools.com/python/python_lambda.asp"
   ]
  },
  {
   "cell_type": "code",
   "execution_count": 26,
   "metadata": {
    "scrolled": true
   },
   "outputs": [],
   "source": [
    "covid_region = covid.groupby(['HA', 'Month']).agg('count')\n",
    "covid_region['Reported_cum'] = covid_region.groupby(['HA']).cumsum()['Classification_Reported']"
   ]
  },
  {
   "cell_type": "code",
   "execution_count": 27,
   "metadata": {
    "scrolled": true
   },
   "outputs": [
    {
     "data": {
      "text/html": [
       "<div>\n",
       "<style scoped>\n",
       "    .dataframe tbody tr th:only-of-type {\n",
       "        vertical-align: middle;\n",
       "    }\n",
       "\n",
       "    .dataframe tbody tr th {\n",
       "        vertical-align: top;\n",
       "    }\n",
       "\n",
       "    .dataframe thead th {\n",
       "        text-align: right;\n",
       "    }\n",
       "</style>\n",
       "<table border=\"1\" class=\"dataframe\">\n",
       "  <thead>\n",
       "    <tr style=\"text-align: right;\">\n",
       "      <th></th>\n",
       "      <th>HA</th>\n",
       "      <th>Month</th>\n",
       "      <th>Reported_Date</th>\n",
       "      <th>Sex</th>\n",
       "      <th>Age_Group</th>\n",
       "      <th>Classification_Reported</th>\n",
       "      <th>Reported_cum</th>\n",
       "    </tr>\n",
       "  </thead>\n",
       "  <tbody>\n",
       "    <tr>\n",
       "      <th>0</th>\n",
       "      <td>Fraser</td>\n",
       "      <td>02</td>\n",
       "      <td>2</td>\n",
       "      <td>2</td>\n",
       "      <td>2</td>\n",
       "      <td>2</td>\n",
       "      <td>2</td>\n",
       "    </tr>\n",
       "    <tr>\n",
       "      <th>1</th>\n",
       "      <td>Fraser</td>\n",
       "      <td>03</td>\n",
       "      <td>350</td>\n",
       "      <td>350</td>\n",
       "      <td>350</td>\n",
       "      <td>350</td>\n",
       "      <td>352</td>\n",
       "    </tr>\n",
       "    <tr>\n",
       "      <th>2</th>\n",
       "      <td>Fraser</td>\n",
       "      <td>04</td>\n",
       "      <td>617</td>\n",
       "      <td>617</td>\n",
       "      <td>617</td>\n",
       "      <td>617</td>\n",
       "      <td>969</td>\n",
       "    </tr>\n",
       "    <tr>\n",
       "      <th>3</th>\n",
       "      <td>Fraser</td>\n",
       "      <td>05</td>\n",
       "      <td>329</td>\n",
       "      <td>329</td>\n",
       "      <td>329</td>\n",
       "      <td>329</td>\n",
       "      <td>1298</td>\n",
       "    </tr>\n",
       "    <tr>\n",
       "      <th>4</th>\n",
       "      <td>Fraser</td>\n",
       "      <td>06</td>\n",
       "      <td>242</td>\n",
       "      <td>242</td>\n",
       "      <td>242</td>\n",
       "      <td>242</td>\n",
       "      <td>1540</td>\n",
       "    </tr>\n",
       "    <tr>\n",
       "      <th>5</th>\n",
       "      <td>Fraser</td>\n",
       "      <td>07</td>\n",
       "      <td>374</td>\n",
       "      <td>374</td>\n",
       "      <td>374</td>\n",
       "      <td>374</td>\n",
       "      <td>1914</td>\n",
       "    </tr>\n",
       "    <tr>\n",
       "      <th>6</th>\n",
       "      <td>Fraser</td>\n",
       "      <td>08</td>\n",
       "      <td>1154</td>\n",
       "      <td>1154</td>\n",
       "      <td>1154</td>\n",
       "      <td>1154</td>\n",
       "      <td>3068</td>\n",
       "    </tr>\n",
       "    <tr>\n",
       "      <th>7</th>\n",
       "      <td>Fraser</td>\n",
       "      <td>09</td>\n",
       "      <td>1642</td>\n",
       "      <td>1642</td>\n",
       "      <td>1642</td>\n",
       "      <td>1642</td>\n",
       "      <td>4710</td>\n",
       "    </tr>\n",
       "    <tr>\n",
       "      <th>8</th>\n",
       "      <td>Fraser</td>\n",
       "      <td>10</td>\n",
       "      <td>2154</td>\n",
       "      <td>2154</td>\n",
       "      <td>2154</td>\n",
       "      <td>2154</td>\n",
       "      <td>6864</td>\n",
       "    </tr>\n",
       "    <tr>\n",
       "      <th>9</th>\n",
       "      <td>Interior</td>\n",
       "      <td>02</td>\n",
       "      <td>1</td>\n",
       "      <td>1</td>\n",
       "      <td>1</td>\n",
       "      <td>1</td>\n",
       "      <td>1</td>\n",
       "    </tr>\n",
       "    <tr>\n",
       "      <th>10</th>\n",
       "      <td>Interior</td>\n",
       "      <td>03</td>\n",
       "      <td>108</td>\n",
       "      <td>108</td>\n",
       "      <td>108</td>\n",
       "      <td>108</td>\n",
       "      <td>109</td>\n",
       "    </tr>\n",
       "    <tr>\n",
       "      <th>11</th>\n",
       "      <td>Interior</td>\n",
       "      <td>04</td>\n",
       "      <td>66</td>\n",
       "      <td>66</td>\n",
       "      <td>66</td>\n",
       "      <td>66</td>\n",
       "      <td>175</td>\n",
       "    </tr>\n",
       "    <tr>\n",
       "      <th>12</th>\n",
       "      <td>Interior</td>\n",
       "      <td>05</td>\n",
       "      <td>17</td>\n",
       "      <td>17</td>\n",
       "      <td>17</td>\n",
       "      <td>17</td>\n",
       "      <td>192</td>\n",
       "    </tr>\n",
       "    <tr>\n",
       "      <th>13</th>\n",
       "      <td>Interior</td>\n",
       "      <td>06</td>\n",
       "      <td>6</td>\n",
       "      <td>6</td>\n",
       "      <td>6</td>\n",
       "      <td>6</td>\n",
       "      <td>198</td>\n",
       "    </tr>\n",
       "    <tr>\n",
       "      <th>14</th>\n",
       "      <td>Interior</td>\n",
       "      <td>07</td>\n",
       "      <td>179</td>\n",
       "      <td>179</td>\n",
       "      <td>179</td>\n",
       "      <td>179</td>\n",
       "      <td>377</td>\n",
       "    </tr>\n",
       "    <tr>\n",
       "      <th>15</th>\n",
       "      <td>Interior</td>\n",
       "      <td>08</td>\n",
       "      <td>70</td>\n",
       "      <td>70</td>\n",
       "      <td>70</td>\n",
       "      <td>70</td>\n",
       "      <td>447</td>\n",
       "    </tr>\n",
       "    <tr>\n",
       "      <th>16</th>\n",
       "      <td>Interior</td>\n",
       "      <td>09</td>\n",
       "      <td>93</td>\n",
       "      <td>93</td>\n",
       "      <td>93</td>\n",
       "      <td>93</td>\n",
       "      <td>540</td>\n",
       "    </tr>\n",
       "    <tr>\n",
       "      <th>17</th>\n",
       "      <td>Interior</td>\n",
       "      <td>10</td>\n",
       "      <td>122</td>\n",
       "      <td>122</td>\n",
       "      <td>122</td>\n",
       "      <td>122</td>\n",
       "      <td>662</td>\n",
       "    </tr>\n",
       "    <tr>\n",
       "      <th>18</th>\n",
       "      <td>Northern</td>\n",
       "      <td>03</td>\n",
       "      <td>16</td>\n",
       "      <td>16</td>\n",
       "      <td>16</td>\n",
       "      <td>16</td>\n",
       "      <td>16</td>\n",
       "    </tr>\n",
       "    <tr>\n",
       "      <th>19</th>\n",
       "      <td>Northern</td>\n",
       "      <td>04</td>\n",
       "      <td>33</td>\n",
       "      <td>33</td>\n",
       "      <td>33</td>\n",
       "      <td>33</td>\n",
       "      <td>49</td>\n",
       "    </tr>\n",
       "    <tr>\n",
       "      <th>20</th>\n",
       "      <td>Northern</td>\n",
       "      <td>05</td>\n",
       "      <td>15</td>\n",
       "      <td>15</td>\n",
       "      <td>15</td>\n",
       "      <td>15</td>\n",
       "      <td>64</td>\n",
       "    </tr>\n",
       "    <tr>\n",
       "      <th>21</th>\n",
       "      <td>Northern</td>\n",
       "      <td>06</td>\n",
       "      <td>1</td>\n",
       "      <td>1</td>\n",
       "      <td>1</td>\n",
       "      <td>1</td>\n",
       "      <td>65</td>\n",
       "    </tr>\n",
       "    <tr>\n",
       "      <th>22</th>\n",
       "      <td>Northern</td>\n",
       "      <td>07</td>\n",
       "      <td>23</td>\n",
       "      <td>23</td>\n",
       "      <td>23</td>\n",
       "      <td>23</td>\n",
       "      <td>88</td>\n",
       "    </tr>\n",
       "    <tr>\n",
       "      <th>23</th>\n",
       "      <td>Northern</td>\n",
       "      <td>08</td>\n",
       "      <td>73</td>\n",
       "      <td>73</td>\n",
       "      <td>73</td>\n",
       "      <td>73</td>\n",
       "      <td>161</td>\n",
       "    </tr>\n",
       "    <tr>\n",
       "      <th>24</th>\n",
       "      <td>Northern</td>\n",
       "      <td>09</td>\n",
       "      <td>151</td>\n",
       "      <td>151</td>\n",
       "      <td>151</td>\n",
       "      <td>151</td>\n",
       "      <td>312</td>\n",
       "    </tr>\n",
       "    <tr>\n",
       "      <th>25</th>\n",
       "      <td>Northern</td>\n",
       "      <td>10</td>\n",
       "      <td>59</td>\n",
       "      <td>59</td>\n",
       "      <td>59</td>\n",
       "      <td>59</td>\n",
       "      <td>371</td>\n",
       "    </tr>\n",
       "    <tr>\n",
       "      <th>26</th>\n",
       "      <td>Out of Canada</td>\n",
       "      <td>01</td>\n",
       "      <td>1</td>\n",
       "      <td>1</td>\n",
       "      <td>1</td>\n",
       "      <td>1</td>\n",
       "      <td>1</td>\n",
       "    </tr>\n",
       "    <tr>\n",
       "      <th>27</th>\n",
       "      <td>Out of Canada</td>\n",
       "      <td>02</td>\n",
       "      <td>2</td>\n",
       "      <td>2</td>\n",
       "      <td>2</td>\n",
       "      <td>2</td>\n",
       "      <td>3</td>\n",
       "    </tr>\n",
       "    <tr>\n",
       "      <th>28</th>\n",
       "      <td>Out of Canada</td>\n",
       "      <td>03</td>\n",
       "      <td>9</td>\n",
       "      <td>9</td>\n",
       "      <td>9</td>\n",
       "      <td>9</td>\n",
       "      <td>12</td>\n",
       "    </tr>\n",
       "    <tr>\n",
       "      <th>29</th>\n",
       "      <td>Out of Canada</td>\n",
       "      <td>04</td>\n",
       "      <td>5</td>\n",
       "      <td>5</td>\n",
       "      <td>5</td>\n",
       "      <td>5</td>\n",
       "      <td>17</td>\n",
       "    </tr>\n",
       "    <tr>\n",
       "      <th>30</th>\n",
       "      <td>Out of Canada</td>\n",
       "      <td>05</td>\n",
       "      <td>10</td>\n",
       "      <td>10</td>\n",
       "      <td>10</td>\n",
       "      <td>10</td>\n",
       "      <td>27</td>\n",
       "    </tr>\n",
       "    <tr>\n",
       "      <th>31</th>\n",
       "      <td>Out of Canada</td>\n",
       "      <td>06</td>\n",
       "      <td>17</td>\n",
       "      <td>17</td>\n",
       "      <td>17</td>\n",
       "      <td>17</td>\n",
       "      <td>44</td>\n",
       "    </tr>\n",
       "    <tr>\n",
       "      <th>32</th>\n",
       "      <td>Out of Canada</td>\n",
       "      <td>07</td>\n",
       "      <td>18</td>\n",
       "      <td>18</td>\n",
       "      <td>18</td>\n",
       "      <td>18</td>\n",
       "      <td>62</td>\n",
       "    </tr>\n",
       "    <tr>\n",
       "      <th>33</th>\n",
       "      <td>Out of Canada</td>\n",
       "      <td>08</td>\n",
       "      <td>17</td>\n",
       "      <td>17</td>\n",
       "      <td>17</td>\n",
       "      <td>17</td>\n",
       "      <td>79</td>\n",
       "    </tr>\n",
       "    <tr>\n",
       "      <th>34</th>\n",
       "      <td>Out of Canada</td>\n",
       "      <td>09</td>\n",
       "      <td>7</td>\n",
       "      <td>7</td>\n",
       "      <td>7</td>\n",
       "      <td>7</td>\n",
       "      <td>86</td>\n",
       "    </tr>\n",
       "    <tr>\n",
       "      <th>35</th>\n",
       "      <td>Out of Canada</td>\n",
       "      <td>10</td>\n",
       "      <td>2</td>\n",
       "      <td>2</td>\n",
       "      <td>2</td>\n",
       "      <td>2</td>\n",
       "      <td>88</td>\n",
       "    </tr>\n",
       "    <tr>\n",
       "      <th>36</th>\n",
       "      <td>Vancouver Coastal</td>\n",
       "      <td>02</td>\n",
       "      <td>3</td>\n",
       "      <td>3</td>\n",
       "      <td>3</td>\n",
       "      <td>3</td>\n",
       "      <td>3</td>\n",
       "    </tr>\n",
       "    <tr>\n",
       "      <th>37</th>\n",
       "      <td>Vancouver Coastal</td>\n",
       "      <td>03</td>\n",
       "      <td>495</td>\n",
       "      <td>495</td>\n",
       "      <td>495</td>\n",
       "      <td>495</td>\n",
       "      <td>498</td>\n",
       "    </tr>\n",
       "    <tr>\n",
       "      <th>38</th>\n",
       "      <td>Vancouver Coastal</td>\n",
       "      <td>04</td>\n",
       "      <td>315</td>\n",
       "      <td>315</td>\n",
       "      <td>315</td>\n",
       "      <td>315</td>\n",
       "      <td>813</td>\n",
       "    </tr>\n",
       "    <tr>\n",
       "      <th>39</th>\n",
       "      <td>Vancouver Coastal</td>\n",
       "      <td>05</td>\n",
       "      <td>69</td>\n",
       "      <td>69</td>\n",
       "      <td>69</td>\n",
       "      <td>69</td>\n",
       "      <td>882</td>\n",
       "    </tr>\n",
       "    <tr>\n",
       "      <th>40</th>\n",
       "      <td>Vancouver Coastal</td>\n",
       "      <td>06</td>\n",
       "      <td>68</td>\n",
       "      <td>68</td>\n",
       "      <td>68</td>\n",
       "      <td>68</td>\n",
       "      <td>950</td>\n",
       "    </tr>\n",
       "    <tr>\n",
       "      <th>41</th>\n",
       "      <td>Vancouver Coastal</td>\n",
       "      <td>07</td>\n",
       "      <td>155</td>\n",
       "      <td>155</td>\n",
       "      <td>155</td>\n",
       "      <td>155</td>\n",
       "      <td>1105</td>\n",
       "    </tr>\n",
       "    <tr>\n",
       "      <th>42</th>\n",
       "      <td>Vancouver Coastal</td>\n",
       "      <td>08</td>\n",
       "      <td>835</td>\n",
       "      <td>835</td>\n",
       "      <td>835</td>\n",
       "      <td>835</td>\n",
       "      <td>1940</td>\n",
       "    </tr>\n",
       "    <tr>\n",
       "      <th>43</th>\n",
       "      <td>Vancouver Coastal</td>\n",
       "      <td>09</td>\n",
       "      <td>1465</td>\n",
       "      <td>1465</td>\n",
       "      <td>1465</td>\n",
       "      <td>1465</td>\n",
       "      <td>3405</td>\n",
       "    </tr>\n",
       "    <tr>\n",
       "      <th>44</th>\n",
       "      <td>Vancouver Coastal</td>\n",
       "      <td>10</td>\n",
       "      <td>914</td>\n",
       "      <td>914</td>\n",
       "      <td>914</td>\n",
       "      <td>914</td>\n",
       "      <td>4319</td>\n",
       "    </tr>\n",
       "    <tr>\n",
       "      <th>45</th>\n",
       "      <td>Vancouver Island</td>\n",
       "      <td>03</td>\n",
       "      <td>71</td>\n",
       "      <td>71</td>\n",
       "      <td>71</td>\n",
       "      <td>71</td>\n",
       "      <td>71</td>\n",
       "    </tr>\n",
       "    <tr>\n",
       "      <th>46</th>\n",
       "      <td>Vancouver Island</td>\n",
       "      <td>04</td>\n",
       "      <td>52</td>\n",
       "      <td>52</td>\n",
       "      <td>52</td>\n",
       "      <td>52</td>\n",
       "      <td>123</td>\n",
       "    </tr>\n",
       "    <tr>\n",
       "      <th>47</th>\n",
       "      <td>Vancouver Island</td>\n",
       "      <td>05</td>\n",
       "      <td>7</td>\n",
       "      <td>7</td>\n",
       "      <td>7</td>\n",
       "      <td>7</td>\n",
       "      <td>130</td>\n",
       "    </tr>\n",
       "    <tr>\n",
       "      <th>48</th>\n",
       "      <td>Vancouver Island</td>\n",
       "      <td>06</td>\n",
       "      <td>3</td>\n",
       "      <td>3</td>\n",
       "      <td>3</td>\n",
       "      <td>3</td>\n",
       "      <td>133</td>\n",
       "    </tr>\n",
       "    <tr>\n",
       "      <th>49</th>\n",
       "      <td>Vancouver Island</td>\n",
       "      <td>07</td>\n",
       "      <td>11</td>\n",
       "      <td>11</td>\n",
       "      <td>11</td>\n",
       "      <td>11</td>\n",
       "      <td>144</td>\n",
       "    </tr>\n",
       "    <tr>\n",
       "      <th>50</th>\n",
       "      <td>Vancouver Island</td>\n",
       "      <td>08</td>\n",
       "      <td>31</td>\n",
       "      <td>31</td>\n",
       "      <td>31</td>\n",
       "      <td>31</td>\n",
       "      <td>175</td>\n",
       "    </tr>\n",
       "    <tr>\n",
       "      <th>51</th>\n",
       "      <td>Vancouver Island</td>\n",
       "      <td>09</td>\n",
       "      <td>34</td>\n",
       "      <td>34</td>\n",
       "      <td>34</td>\n",
       "      <td>34</td>\n",
       "      <td>209</td>\n",
       "    </tr>\n",
       "    <tr>\n",
       "      <th>52</th>\n",
       "      <td>Vancouver Island</td>\n",
       "      <td>10</td>\n",
       "      <td>41</td>\n",
       "      <td>41</td>\n",
       "      <td>41</td>\n",
       "      <td>41</td>\n",
       "      <td>250</td>\n",
       "    </tr>\n",
       "  </tbody>\n",
       "</table>\n",
       "</div>"
      ],
      "text/plain": [
       "                   HA Month  Reported_Date   Sex  Age_Group  \\\n",
       "0              Fraser    02              2     2          2   \n",
       "1              Fraser    03            350   350        350   \n",
       "2              Fraser    04            617   617        617   \n",
       "3              Fraser    05            329   329        329   \n",
       "4              Fraser    06            242   242        242   \n",
       "5              Fraser    07            374   374        374   \n",
       "6              Fraser    08           1154  1154       1154   \n",
       "7              Fraser    09           1642  1642       1642   \n",
       "8              Fraser    10           2154  2154       2154   \n",
       "9            Interior    02              1     1          1   \n",
       "10           Interior    03            108   108        108   \n",
       "11           Interior    04             66    66         66   \n",
       "12           Interior    05             17    17         17   \n",
       "13           Interior    06              6     6          6   \n",
       "14           Interior    07            179   179        179   \n",
       "15           Interior    08             70    70         70   \n",
       "16           Interior    09             93    93         93   \n",
       "17           Interior    10            122   122        122   \n",
       "18           Northern    03             16    16         16   \n",
       "19           Northern    04             33    33         33   \n",
       "20           Northern    05             15    15         15   \n",
       "21           Northern    06              1     1          1   \n",
       "22           Northern    07             23    23         23   \n",
       "23           Northern    08             73    73         73   \n",
       "24           Northern    09            151   151        151   \n",
       "25           Northern    10             59    59         59   \n",
       "26      Out of Canada    01              1     1          1   \n",
       "27      Out of Canada    02              2     2          2   \n",
       "28      Out of Canada    03              9     9          9   \n",
       "29      Out of Canada    04              5     5          5   \n",
       "30      Out of Canada    05             10    10         10   \n",
       "31      Out of Canada    06             17    17         17   \n",
       "32      Out of Canada    07             18    18         18   \n",
       "33      Out of Canada    08             17    17         17   \n",
       "34      Out of Canada    09              7     7          7   \n",
       "35      Out of Canada    10              2     2          2   \n",
       "36  Vancouver Coastal    02              3     3          3   \n",
       "37  Vancouver Coastal    03            495   495        495   \n",
       "38  Vancouver Coastal    04            315   315        315   \n",
       "39  Vancouver Coastal    05             69    69         69   \n",
       "40  Vancouver Coastal    06             68    68         68   \n",
       "41  Vancouver Coastal    07            155   155        155   \n",
       "42  Vancouver Coastal    08            835   835        835   \n",
       "43  Vancouver Coastal    09           1465  1465       1465   \n",
       "44  Vancouver Coastal    10            914   914        914   \n",
       "45   Vancouver Island    03             71    71         71   \n",
       "46   Vancouver Island    04             52    52         52   \n",
       "47   Vancouver Island    05              7     7          7   \n",
       "48   Vancouver Island    06              3     3          3   \n",
       "49   Vancouver Island    07             11    11         11   \n",
       "50   Vancouver Island    08             31    31         31   \n",
       "51   Vancouver Island    09             34    34         34   \n",
       "52   Vancouver Island    10             41    41         41   \n",
       "\n",
       "    Classification_Reported  Reported_cum  \n",
       "0                         2             2  \n",
       "1                       350           352  \n",
       "2                       617           969  \n",
       "3                       329          1298  \n",
       "4                       242          1540  \n",
       "5                       374          1914  \n",
       "6                      1154          3068  \n",
       "7                      1642          4710  \n",
       "8                      2154          6864  \n",
       "9                         1             1  \n",
       "10                      108           109  \n",
       "11                       66           175  \n",
       "12                       17           192  \n",
       "13                        6           198  \n",
       "14                      179           377  \n",
       "15                       70           447  \n",
       "16                       93           540  \n",
       "17                      122           662  \n",
       "18                       16            16  \n",
       "19                       33            49  \n",
       "20                       15            64  \n",
       "21                        1            65  \n",
       "22                       23            88  \n",
       "23                       73           161  \n",
       "24                      151           312  \n",
       "25                       59           371  \n",
       "26                        1             1  \n",
       "27                        2             3  \n",
       "28                        9            12  \n",
       "29                        5            17  \n",
       "30                       10            27  \n",
       "31                       17            44  \n",
       "32                       18            62  \n",
       "33                       17            79  \n",
       "34                        7            86  \n",
       "35                        2            88  \n",
       "36                        3             3  \n",
       "37                      495           498  \n",
       "38                      315           813  \n",
       "39                       69           882  \n",
       "40                       68           950  \n",
       "41                      155          1105  \n",
       "42                      835          1940  \n",
       "43                     1465          3405  \n",
       "44                      914          4319  \n",
       "45                       71            71  \n",
       "46                       52           123  \n",
       "47                        7           130  \n",
       "48                        3           133  \n",
       "49                       11           144  \n",
       "50                       31           175  \n",
       "51                       34           209  \n",
       "52                       41           250  "
      ]
     },
     "execution_count": 27,
     "metadata": {},
     "output_type": "execute_result"
    }
   ],
   "source": [
    "covid_region = covid_region.reset_index()\n",
    "covid_region"
   ]
  },
  {
   "cell_type": "markdown",
   "metadata": {},
   "source": [
    "##### Question 18: Draw the `Horizontal bar` graph when the `Month` is March(`03`).\n",
    "- Set all labels' font size as <b>15</b>. \n",
    "- Set the xlabel as \"`The Reported Number of Cases`\"(Please use the value of `Classification_Reported`).\n",
    "- Set the ylabel as \"`Region`\".\n",
    "- Set the title as \"`The Number of Cases in March`\".\n",
    "- Save the graph named \"`hw1_ans18_(student_id).png`\".<br/>\n",
    "  (e.g.) <b>hw1_ans18_37510930.png</b>\n",
    "\n",
    "[Hint]\n",
    "- `barh` : https://matplotlib.org/3.1.1/api/_as_gen/matplotlib.pyplot.barh.html"
   ]
  },
  {
   "cell_type": "code",
   "execution_count": 28,
   "metadata": {},
   "outputs": [
    {
     "data": {
      "text/html": [
       "<div>\n",
       "<style scoped>\n",
       "    .dataframe tbody tr th:only-of-type {\n",
       "        vertical-align: middle;\n",
       "    }\n",
       "\n",
       "    .dataframe tbody tr th {\n",
       "        vertical-align: top;\n",
       "    }\n",
       "\n",
       "    .dataframe thead th {\n",
       "        text-align: right;\n",
       "    }\n",
       "</style>\n",
       "<table border=\"1\" class=\"dataframe\">\n",
       "  <thead>\n",
       "    <tr style=\"text-align: right;\">\n",
       "      <th></th>\n",
       "      <th>HA</th>\n",
       "      <th>Month</th>\n",
       "      <th>Reported_Date</th>\n",
       "      <th>Sex</th>\n",
       "      <th>Age_Group</th>\n",
       "      <th>Classification_Reported</th>\n",
       "      <th>Reported_cum</th>\n",
       "    </tr>\n",
       "  </thead>\n",
       "  <tbody>\n",
       "    <tr>\n",
       "      <th>1</th>\n",
       "      <td>Fraser</td>\n",
       "      <td>03</td>\n",
       "      <td>350</td>\n",
       "      <td>350</td>\n",
       "      <td>350</td>\n",
       "      <td>350</td>\n",
       "      <td>352</td>\n",
       "    </tr>\n",
       "    <tr>\n",
       "      <th>10</th>\n",
       "      <td>Interior</td>\n",
       "      <td>03</td>\n",
       "      <td>108</td>\n",
       "      <td>108</td>\n",
       "      <td>108</td>\n",
       "      <td>108</td>\n",
       "      <td>109</td>\n",
       "    </tr>\n",
       "    <tr>\n",
       "      <th>18</th>\n",
       "      <td>Northern</td>\n",
       "      <td>03</td>\n",
       "      <td>16</td>\n",
       "      <td>16</td>\n",
       "      <td>16</td>\n",
       "      <td>16</td>\n",
       "      <td>16</td>\n",
       "    </tr>\n",
       "    <tr>\n",
       "      <th>28</th>\n",
       "      <td>Out of Canada</td>\n",
       "      <td>03</td>\n",
       "      <td>9</td>\n",
       "      <td>9</td>\n",
       "      <td>9</td>\n",
       "      <td>9</td>\n",
       "      <td>12</td>\n",
       "    </tr>\n",
       "    <tr>\n",
       "      <th>37</th>\n",
       "      <td>Vancouver Coastal</td>\n",
       "      <td>03</td>\n",
       "      <td>495</td>\n",
       "      <td>495</td>\n",
       "      <td>495</td>\n",
       "      <td>495</td>\n",
       "      <td>498</td>\n",
       "    </tr>\n",
       "    <tr>\n",
       "      <th>45</th>\n",
       "      <td>Vancouver Island</td>\n",
       "      <td>03</td>\n",
       "      <td>71</td>\n",
       "      <td>71</td>\n",
       "      <td>71</td>\n",
       "      <td>71</td>\n",
       "      <td>71</td>\n",
       "    </tr>\n",
       "  </tbody>\n",
       "</table>\n",
       "</div>"
      ],
      "text/plain": [
       "                   HA Month  Reported_Date  Sex  Age_Group  \\\n",
       "1              Fraser    03            350  350        350   \n",
       "10           Interior    03            108  108        108   \n",
       "18           Northern    03             16   16         16   \n",
       "28      Out of Canada    03              9    9          9   \n",
       "37  Vancouver Coastal    03            495  495        495   \n",
       "45   Vancouver Island    03             71   71         71   \n",
       "\n",
       "    Classification_Reported  Reported_cum  \n",
       "1                       350           352  \n",
       "10                      108           109  \n",
       "18                       16            16  \n",
       "28                        9            12  \n",
       "37                      495           498  \n",
       "45                       71            71  "
      ]
     },
     "execution_count": 28,
     "metadata": {},
     "output_type": "execute_result"
    }
   ],
   "source": [
    "March_covid = covid_region.loc[covid_region['Month'] == '03']\n",
    "March_covid"
   ]
  },
  {
   "cell_type": "code",
   "execution_count": 29,
   "metadata": {},
   "outputs": [
    {
     "data": {
      "image/png": "[encoded data removed]",
      "text/plain": [
       "<Figure size 1152x648 with 1 Axes>"
      ]
     },
     "metadata": {
      "needs_background": "light"
     },
     "output_type": "display_data"
    }
   ],
   "source": [
    "plt.figure(figsize=(16,9))\n",
    "plt.barh(March_covid['HA'], March_covid['Classification_Reported'])\n",
    "plt.xlabel('The Reported Number of Case', fontsize = 15)\n",
    "plt.ylabel('Region', fontsize = 15)\n",
    "plt.title('The Number of Cases in March', fontsize = 15)\n",
    "plt.savefig(\"hw1_ans18_35205608.png\")\n",
    "# plt.close()"
   ]
  },
  {
   "cell_type": "markdown",
   "metadata": {},
   "source": [
    "##### Question 19. Draw the `Horizontal bar` graph until the `Month` is August(`08`).\n",
    "- Aassign different random colors and sort the region in descending order (in the number of cumulative cases).\n",
    "- Set all labels’ font size as <b>15</b>.\n",
    "- Set the xlabel as `The Reported Culumative Number of Cases` (Please use the value of `Reported_cum`).\n",
    "- Set the ylabel as `Region`.\n",
    "- Set the title as `The Total Number of Cases Until August`.\n",
    "- Save the graph named `hw1_ans19_(student_id).png`.\n",
    " (e.g.) <b>hw1_ans19_37510930.png</b>\n",
    "\n",
    "[Hint]\n",
    "- `random` : https://docs.python.org/3/library/random.html\n",
    "- `sort_values` : https://pandas.pydata.org/pandas-docs/stable/reference/api/pandas.DataFrame.sort_values.html\n",
    "- `map` : https://www.w3schools.com/python/ref_func_map.asp"
   ]
  },
  {
   "cell_type": "code",
   "execution_count": 30,
   "metadata": {},
   "outputs": [
    {
     "data": {
      "text/html": [
       "<div>\n",
       "<style scoped>\n",
       "    .dataframe tbody tr th:only-of-type {\n",
       "        vertical-align: middle;\n",
       "    }\n",
       "\n",
       "    .dataframe tbody tr th {\n",
       "        vertical-align: top;\n",
       "    }\n",
       "\n",
       "    .dataframe thead th {\n",
       "        text-align: right;\n",
       "    }\n",
       "</style>\n",
       "<table border=\"1\" class=\"dataframe\">\n",
       "  <thead>\n",
       "    <tr style=\"text-align: right;\">\n",
       "      <th></th>\n",
       "      <th>HA</th>\n",
       "      <th>Month</th>\n",
       "      <th>Reported_Date</th>\n",
       "      <th>Sex</th>\n",
       "      <th>Age_Group</th>\n",
       "      <th>Classification_Reported</th>\n",
       "      <th>Reported_cum</th>\n",
       "    </tr>\n",
       "  </thead>\n",
       "  <tbody>\n",
       "    <tr>\n",
       "      <th>33</th>\n",
       "      <td>Out of Canada</td>\n",
       "      <td>08</td>\n",
       "      <td>17</td>\n",
       "      <td>17</td>\n",
       "      <td>17</td>\n",
       "      <td>17</td>\n",
       "      <td>79</td>\n",
       "    </tr>\n",
       "    <tr>\n",
       "      <th>23</th>\n",
       "      <td>Northern</td>\n",
       "      <td>08</td>\n",
       "      <td>73</td>\n",
       "      <td>73</td>\n",
       "      <td>73</td>\n",
       "      <td>73</td>\n",
       "      <td>161</td>\n",
       "    </tr>\n",
       "    <tr>\n",
       "      <th>50</th>\n",
       "      <td>Vancouver Island</td>\n",
       "      <td>08</td>\n",
       "      <td>31</td>\n",
       "      <td>31</td>\n",
       "      <td>31</td>\n",
       "      <td>31</td>\n",
       "      <td>175</td>\n",
       "    </tr>\n",
       "    <tr>\n",
       "      <th>15</th>\n",
       "      <td>Interior</td>\n",
       "      <td>08</td>\n",
       "      <td>70</td>\n",
       "      <td>70</td>\n",
       "      <td>70</td>\n",
       "      <td>70</td>\n",
       "      <td>447</td>\n",
       "    </tr>\n",
       "    <tr>\n",
       "      <th>42</th>\n",
       "      <td>Vancouver Coastal</td>\n",
       "      <td>08</td>\n",
       "      <td>835</td>\n",
       "      <td>835</td>\n",
       "      <td>835</td>\n",
       "      <td>835</td>\n",
       "      <td>1940</td>\n",
       "    </tr>\n",
       "    <tr>\n",
       "      <th>6</th>\n",
       "      <td>Fraser</td>\n",
       "      <td>08</td>\n",
       "      <td>1154</td>\n",
       "      <td>1154</td>\n",
       "      <td>1154</td>\n",
       "      <td>1154</td>\n",
       "      <td>3068</td>\n",
       "    </tr>\n",
       "  </tbody>\n",
       "</table>\n",
       "</div>"
      ],
      "text/plain": [
       "                   HA Month  Reported_Date   Sex  Age_Group  \\\n",
       "33      Out of Canada    08             17    17         17   \n",
       "23           Northern    08             73    73         73   \n",
       "50   Vancouver Island    08             31    31         31   \n",
       "15           Interior    08             70    70         70   \n",
       "42  Vancouver Coastal    08            835   835        835   \n",
       "6              Fraser    08           1154  1154       1154   \n",
       "\n",
       "    Classification_Reported  Reported_cum  \n",
       "33                       17            79  \n",
       "23                       73           161  \n",
       "50                       31           175  \n",
       "15                       70           447  \n",
       "42                      835          1940  \n",
       "6                      1154          3068  "
      ]
     },
     "execution_count": 30,
     "metadata": {},
     "output_type": "execute_result"
    }
   ],
   "source": [
    "August_covid = covid_region.loc[covid_region['Month'] == '08']\n",
    "August_covid = August_covid.sort_values(by = ['Reported_cum'])\n",
    "August_covid"
   ]
  },
  {
   "cell_type": "code",
   "execution_count": 31,
   "metadata": {
    "scrolled": false
   },
   "outputs": [
    {
     "data": {
      "image/png": "[encoded data removed]",
      "text/plain": [
       "<Figure size 1152x648 with 1 Axes>"
      ]
     },
     "metadata": {
      "needs_background": "light"
     },
     "output_type": "display_data"
    }
   ],
   "source": [
    "color = np.random.rand(6,3)\n",
    "plt.figure(figsize=(16,9))\n",
    "plt.barh(August_covid['HA'], August_covid['Reported_cum'], color = color)\n",
    "plt.xlabel('The Reported Cumulative Number os Cases', fontsize = 15)\n",
    "plt.ylabel('Region', fontsize = 15)\n",
    "plt.title('The Total Number of Cases Until August', fontsize = 15)\n",
    "plt.savefig(\"hw1_ans19_35205608.png\")\n",
    "# plt.close()"
   ]
  },
  {
   "cell_type": "markdown",
   "metadata": {},
   "source": [
    "##### Question 20: Make outfile name format as `hw1_answers_(student_id).txt` and save it to `txt` file                \n",
    "When you make the output file, please follow the sample figure in the `docx` file. \n",
    "\n",
    "1. The total line number should be **16**.\n",
    "2. The first line should be your **last name, first name, email**.\n",
    "3. From the second to before the last line, these lines should be starting with **answer{number}=your_own_answer** \n",
    "\n",
    " (ex) answer7=hello (there will be no whitespace)\n",
    "4. The last line should be **HW 1 is done!!!**"
   ]
  },
  {
   "cell_type": "code",
   "execution_count": 32,
   "metadata": {},
   "outputs": [],
   "source": [
    "outfile = open('hw1_answers_35205608.txt', 'w')\n",
    "outfile.write( last_name + ', ' + first_name + ', ' + email + '\\n')\n",
    "for i in range(1, 20):\n",
    "    try:\n",
    "        v = locals()['ans' + str(i)]\n",
    "        outfile.write('ans' + str(i) + '=' + str(v)  + '\\n')\n",
    "    except:\n",
    "        continue\n",
    "outfile.write('HW 1 is done!!!')\n",
    "outfile.close()\n",
    "# I looked at this page and learned the change of variables in a for loop \n",
    "# https://stackoverflow.com/questions/1060090/changing-variable-names-with-python-for-loops"
   ]
  },
  {
   "cell_type": "markdown",
   "metadata": {},
   "source": [
    "#### After finishing `hw1`, please submit your python code to Canvas. You don't need to submit the `.png` files. Also, don't submit the data files (`.tsv`, `.csv`) in Canvas. \n",
    "\n",
    "#### The code file name should be as follows: `hw1_(student_id).py` \n",
    "(e.g.) hw1_37510930.py"
   ]
  }
 ],
 "metadata": {
  "kernelspec": {
   "display_name": "Python 3",
   "language": "python",
   "name": "python3"
  },
  "language_info": {
   "codemirror_mode": {
    "name": "ipython",
    "version": 3
   },
   "file_extension": ".py",
   "mimetype": "text/x-python",
   "name": "python",
   "nbconvert_exporter": "python",
   "pygments_lexer": "ipython3",
   "version": "3.8.3"
  }
 },
 "nbformat": 4,
 "nbformat_minor": 2
}
